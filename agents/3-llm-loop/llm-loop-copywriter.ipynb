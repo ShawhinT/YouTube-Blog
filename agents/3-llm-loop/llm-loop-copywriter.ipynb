{
 "cells": [
  {
   "cell_type": "markdown",
   "id": "83626cd8-1fc0-41d0-83fb-2ecb641e933e",
   "metadata": {},
   "source": [
    "# Upwork Profile Rewriter (LLM in a Loop)\n",
    "\n",
    "Code authored by: Shaw Talebi"
   ]
  },
  {
   "cell_type": "markdown",
   "id": "4f0c1b14-7f26-4c93-97a3-9680b98413e2",
   "metadata": {},
   "source": [
    "### imports"
   ]
  },
  {
   "cell_type": "code",
   "execution_count": 1,
   "id": "88b8b7a5-6e0a-45d1-b683-dcb52f4d7a46",
   "metadata": {},
   "outputs": [],
   "source": [
    "from openai import OpenAI\n",
    "from dotenv import load_dotenv\n",
    "import os\n",
    "\n",
    "from functions import *"
   ]
  },
  {
   "cell_type": "code",
   "execution_count": 2,
   "id": "41ec68c9-db9e-4fa0-9c4c-337ab1358198",
   "metadata": {},
   "outputs": [],
   "source": [
    "# import sk from .env file\n",
    "load_dotenv()\n",
    "\n",
    "# connect to openai API\n",
    "client = OpenAI(api_key=os.getenv(\"OPENAI_API_KEY\"))"
   ]
  },
  {
   "cell_type": "markdown",
   "id": "73455513-fcb8-4b78-8afa-5131bea4491c",
   "metadata": {},
   "source": [
    "### instructions (developer message)"
   ]
  },
  {
   "cell_type": "code",
   "execution_count": 3,
   "id": "6ce5d975-8d60-4ff1-a0c9-62b658a791f2",
   "metadata": {},
   "outputs": [],
   "source": [
    "# read existing profile text\n",
    "instructions = read_context(\"instructions.txt\")\n",
    "# read examples\n",
    "example = read_context(\"example.txt\")"
   ]
  },
  {
   "cell_type": "code",
   "execution_count": 4,
   "id": "153d5566-0e13-4110-bead-b0991594180c",
   "metadata": {},
   "outputs": [],
   "source": [
    "instructions = f\"\"\"{instructions}\n",
    "\n",
    "---\n",
    "\n",
    "## Here's an example\"\n",
    "{example}\n",
    "\n",
    "----\n",
    "\n",
    "## Important Guidelines:\n",
    "- Profiles should be written in **PLAIN TEXT** (NOT markdown)\n",
    "\n",
    "----\n",
    "\"\"\""
   ]
  },
  {
   "cell_type": "markdown",
   "id": "590f0e8f-e87a-492b-98cf-e2610e01d26a",
   "metadata": {},
   "source": [
    "### prompt"
   ]
  },
  {
   "cell_type": "code",
   "execution_count": 5,
   "id": "adf72015-ed0b-402c-9a54-097709a74141",
   "metadata": {},
   "outputs": [],
   "source": [
    "# read current profile\n",
    "background = read_context(\"background.txt\")\n",
    "# define customer\n",
    "customer = \"Founders and CXOs of small to medium sized business, seeking guidance with AI use cases\""
   ]
  },
  {
   "cell_type": "code",
   "execution_count": 6,
   "id": "d535eb9a-464b-47db-a6d7-713c68d64194",
   "metadata": {},
   "outputs": [],
   "source": [
    "prompt = f\"\"\"### 📄 Upwork Profile Rewrite Task\n",
    "\n",
    "Below is a freelancer's background, your task is to rewrite it based on high-converting Upwork profile best practices. Their ideal customer avatar is: {customer}.\n",
    "\n",
    "----\n",
    "\n",
    "{background}\n",
    "\n",
    "----\n",
    "\"\"\""
   ]
  },
  {
   "cell_type": "code",
   "execution_count": 7,
   "id": "a4dac98d-59d6-449b-a279-05681f76f7a5",
   "metadata": {
    "scrolled": true
   },
   "outputs": [
    {
     "name": "stdout",
     "output_type": "stream",
     "text": [
      "### 📄 Upwork Profile Rewrite Task\n",
      "\n",
      "Below is a freelancer's background, your task is to rewrite it based on high-converting Upwork profile best practices. Their ideal customer avatar is: Founders and CXOs of small to medium sized business, seeking guidance with AI use cases.\n",
      "\n",
      "----\n",
      "\n",
      "# Data Scientist | PhD, Physics\n",
      "Meet Shaw, a data scientist, entrepreneur, researcher, content creator, physicist, drummer, and bread enthusiast driven by an insatiable curiosity to understand the world and create better systems.\n",
      "\n",
      "With a Ph.D. in Physics from The University of Texas at Dallas, Shaw has over 5 years of experience in data science and project management across diverse fields such as biometric research, credit risk, automotive sales, medicine, human performance, marketing, event planning, and content creation.\n",
      "\n",
      "As a data scientist, Shaw helps teams solve their problems through data-informed solutions while constantly seeking entrepreneurial opportunities to provide value and tackle challenging problems.\n",
      "\n",
      "Domain Experience:\n",
      "~~~~~~~~~~~~~~~~~~~~~\n",
      "• Biometric research\n",
      "• Credit risk\n",
      "• Medicine\n",
      "• Human Performance\n",
      "• Automotive industry\n",
      "• Marketing\n",
      "• Social media analytics\n",
      "• Content creation\n",
      "\n",
      "Consulting Services:\n",
      "~~~~~~~~~~~~~~~~~~~~~~\n",
      "• Project feasibility\n",
      "• Project scoping and planning\n",
      "• Project/Code review\n",
      "• Topic/Concept explanation\n",
      "\n",
      "Data Services:\n",
      "~~~~~~~~~~~~~~~\n",
      "• Automation - tedious data entry with a click of a button\n",
      "• Preparation - turn raw data into something workable\n",
      "• Visualization - translating numbers into powerful visuals\n",
      "• Exploration - discovering hidden gems in data\n",
      "• Modeling - develop data-driven models to make predictions\n",
      "• Causality - going beyond correlations and uncovering causation\n",
      "• Monitoring - ensure model predictions remain accurate after deployment\n",
      "\n",
      "----\n",
      "\n"
     ]
    }
   ],
   "source": [
    "print(prompt)"
   ]
  },
  {
   "cell_type": "markdown",
   "id": "4206ad46-4258-4f83-94ed-69242c1a742e",
   "metadata": {},
   "source": [
    "### Write-eval loop"
   ]
  },
  {
   "cell_type": "code",
   "execution_count": null,
   "id": "c3937b9f-7fe7-41d4-8ac2-1a0e4582cafe",
   "metadata": {},
   "outputs": [
    {
     "name": "stdout",
     "output_type": "stream",
     "text": [
      "{'word_count': True, 'client_focus': True, 'social_proof': True, 'readability': False}\n",
      "{'word_count': False, 'client_focus': True, 'social_proof': True, 'readability': False}\n",
      "{'word_count': True, 'client_focus': True, 'social_proof': True, 'readability': False}\n",
      "{'word_count': True, 'client_focus': True, 'social_proof': True, 'readability': False}\n",
      "{'word_count': True, 'client_focus': True, 'social_proof': True, 'readability': True}\n"
     ]
    }
   ],
   "source": [
    "all_passed = False\n",
    "counter = 0\n",
    "max_iter = 5\n",
    "\n",
    "while not all_passed and counter < max_iter:\n",
    "    \n",
    "    # rewrite profile\n",
    "    new_profile = rewrite_profile(instructions, prompt, client)\n",
    "    write_profile(new_profile, f\"profile-{counter}.txt\")\n",
    "\n",
    "    # evaluate new profile\n",
    "    results = run_all_evals(new_profile)\n",
    "    print(results)\n",
    "\n",
    "    # craft new prompt with feedback\n",
    "    prompt = generate_eval_report(new_profile, results)\n",
    "\n",
    "    # check if all tests passed\n",
    "    all_passed = all(results.values())\n",
    "\n",
    "    # udpate counter\n",
    "    counter += 1"
   ]
  },
  {
   "cell_type": "code",
   "execution_count": 9,
   "id": "88c7491c-0842-4373-af49-838f1ab6bc76",
   "metadata": {},
   "outputs": [
    {
     "name": "stdout",
     "output_type": "stream",
     "text": [
      "🚀 Transform Your Business with Data-Driven AI Solutions\n",
      "\n",
      "Are you struggling to use AI for your business? You're not alone. Many founders and CXOs face challenges with AI.\n",
      "\n",
      "❌ Not sure how to use AI  \n",
      "❌ Overwhelmed by data without clear insights  \n",
      "❌ Stuck with manual tasks that waste time  \n",
      "\n",
      "✅ I can help.\n",
      "\n",
      "I guide small to medium-sized businesses to use AI and data science effectively. With a Ph.D. in Physics and over 5 years of experience, I turn complex data into valuable tools that drive growth.\n",
      "\n",
      "🛠 What I Offer:\n",
      "- **Project Planning** – Plan AI projects for success  \n",
      "- **Data Automation** – Automate tasks to save time  \n",
      "- **Data Visualization** – Turn data into simple visuals  \n",
      "- **Predictive Modeling** – Create models to forecast trends  \n",
      "- **Causal Analysis** – Find true reasons for outcomes  \n",
      "\n",
      "💡 How I Work:\n",
      "I’m more than a data scientist—I'm your growth partner. My approach includes:\n",
      "- Solutions tailored to your needs  \n",
      "- Clear steps and communication  \n",
      "- Use of the latest tools for top results  \n",
      "\n",
      "🏆 Proven Success:\n",
      "- Increased marketing ROI by 20%  \n",
      "- Developed models to reduce credit risk  \n",
      "- Improved efficiency for car sales teams by 15%  \n",
      "\n",
      "💬 What Clients Say:\n",
      "“Shaw’s expertise turned our data into strategies. A game-changer for us.”  \n",
      "“From start to finish, Shaw provided clarity and results.”\n",
      "\n",
      "🔍 Not a good fit if:\n",
      "- You want the cheapest option  \n",
      "- You lack a clear business goal  \n",
      "\n",
      "✅ Perfect fit if:\n",
      "- You need expert AI guidance  \n",
      "- You value strategic insights and effective results  \n",
      "\n",
      "📩 Ready to use AI for your business? Here’s how to start:\n",
      "1. Message me with your needs  \n",
      "2. We’ll discuss goals and make a plan  \n",
      "3. Let’s turn your data into a powerful asset  \n",
      "\n",
      "Let’s unlock your business potential with AI!\n"
     ]
    }
   ],
   "source": [
    "print(new_profile)"
   ]
  },
  {
   "cell_type": "code",
   "execution_count": null,
   "id": "b43eaaea-1b0b-4772-9b16-07987dba4362",
   "metadata": {},
   "outputs": [],
   "source": []
  }
 ],
 "metadata": {
  "kernelspec": {
   "display_name": "Python 3 (ipykernel)",
   "language": "python",
   "name": "python3"
  },
  "language_info": {
   "codemirror_mode": {
    "name": "ipython",
    "version": 3
   },
   "file_extension": ".py",
   "mimetype": "text/x-python",
   "name": "python",
   "nbconvert_exporter": "python",
   "pygments_lexer": "ipython3",
   "version": "3.12.8"
  }
 },
 "nbformat": 4,
 "nbformat_minor": 5
}
